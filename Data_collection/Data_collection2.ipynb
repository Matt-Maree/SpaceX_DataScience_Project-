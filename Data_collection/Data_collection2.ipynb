{
 "cells": [
  {
   "cell_type": "code",
   "execution_count": 1,
   "id": "ef9cba74-16fc-4362-9bb7-40d01d6405fd",
   "metadata": {},
   "outputs": [],
   "source": [
    "import sys\n",
    "\n",
    "import requests\n",
    "from bs4 import BeautifulSoup\n",
    "import re\n",
    "import unicodedata\n",
    "import pandas as pd"
   ]
  },
  {
   "cell_type": "markdown",
   "id": "ba55601c-f57a-4cb0-9264-01a2d9a48817",
   "metadata": {},
   "source": [
    "#### Perfrom some webscraping to get additional data for falcon 9 launches"
   ]
  },
  {
   "cell_type": "code",
   "execution_count": 2,
   "id": "3af2b8d8-79ca-4d22-929b-afc203d890c2",
   "metadata": {},
   "outputs": [],
   "source": [
    "# Some premade functions to process the web scraped HTML tables\n",
    "\n",
    "def date_time(table_cells):\n",
    "    \"\"\"\n",
    "    This function returns the data and time from the HTML  table cell\n",
    "    Input: the  element of a table data cell extracts extra row\n",
    "    \"\"\"\n",
    "    return [data_time.strip() for data_time in list(table_cells.strings)][0:2]\n",
    "\n",
    "def booster_version(table_cells):\n",
    "    \"\"\"\n",
    "    This function returns the booster version from the HTML  table cell \n",
    "    Input: the  element of a table data cell extracts extra row\n",
    "    \"\"\"\n",
    "    out=''.join([booster_version for i,booster_version in enumerate( table_cells.strings) if i%2==0][0:-1])\n",
    "    return out\n",
    "\n",
    "def landing_status(table_cells):\n",
    "    \"\"\"\n",
    "    This function returns the landing status from the HTML table cell \n",
    "    Input: the  element of a table data cell extracts extra row\n",
    "    \"\"\"\n",
    "    out=[i for i in table_cells.strings][0]\n",
    "    return out\n",
    "\n",
    "\n",
    "def get_mass(table_cells):\n",
    "    mass=unicodedata.normalize(\"NFKD\", table_cells.text).strip()\n",
    "    if mass:\n",
    "        mass.find(\"kg\")\n",
    "        new_mass=mass[0:mass.find(\"kg\")+2]\n",
    "    else:\n",
    "        new_mass=0\n",
    "    return new_mass\n",
    "\n",
    "\n",
    "def extract_column_from_header(row):\n",
    "    \"\"\"\n",
    "    This function returns the landing status from the HTML table cell \n",
    "    Input: the  element of a table data cell extracts extra row\n",
    "    \"\"\"\n",
    "    if (row.br):\n",
    "        row.br.extract()\n",
    "    if row.a:\n",
    "        row.a.extract()\n",
    "    if row.sup:\n",
    "        row.sup.extract()\n",
    "        \n",
    "    colunm_name = ' '.join(row.contents)\n",
    "    \n",
    "    # Filter the digit and empty names\n",
    "    if not(colunm_name.strip().isdigit()):\n",
    "        colunm_name = colunm_name.strip()\n",
    "        return colunm_name    "
   ]
  },
  {
   "cell_type": "code",
   "execution_count": 11,
   "id": "7b5810b8-14b2-4d4b-9190-452920a23d4c",
   "metadata": {},
   "outputs": [],
   "source": [
    "# Load the url of a 2019 wikipedia page to a responce object, and create a beautiful soup object to parse the HTML content\n",
    "\n",
    "static_url = \"https://en.wikipedia.org/w/index.php?title=List_of_Falcon_9_and_Falcon_Heavy_launches&oldid=1027686922\"\n",
    "\n",
    "responce = requests.get(static_url)\n",
    "\n",
    "html_content = responce.text\n",
    "\n",
    "soup = BeautifulSoup(html_content, 'html.parser')"
   ]
  },
  {
   "cell_type": "code",
   "execution_count": 12,
   "id": "0bc35589-f7d1-4818-a663-52851c6d611e",
   "metadata": {},
   "outputs": [
    {
     "data": {
      "text/plain": [
       "<title>List of Falcon 9 and Falcon Heavy launches - Wikipedia</title>"
      ]
     },
     "execution_count": 12,
     "metadata": {},
     "output_type": "execute_result"
    }
   ],
   "source": [
    "soup.title"
   ]
  },
  {
   "cell_type": "code",
   "execution_count": 15,
   "id": "6f8b162a-57ca-436a-8617-9246ca82c72b",
   "metadata": {},
   "outputs": [],
   "source": [
    "html_tables = soup.find_all('table')"
   ]
  },
  {
   "cell_type": "code",
   "execution_count": 24,
   "id": "30b09f50-e3ad-4134-8d74-a8e448f9bd1d",
   "metadata": {},
   "outputs": [],
   "source": [
    "# Want the tables which contain the launch records, from some trial and error, can see this is from the third table onwards\n",
    "\n",
    "first_launch_table = html_tables[2]"
   ]
  },
  {
   "cell_type": "code",
   "execution_count": 75,
   "id": "28cbbfd9-d29c-4b8f-b447-6cc0d4734eb0",
   "metadata": {},
   "outputs": [],
   "source": [
    "# Make a list of column names by iterating through the <th> elements using the defined extract_column_from_header function\n",
    "\n",
    "column_names = []\n",
    "\n",
    "# Find all rows in the table\n",
    "for row in first_launch_table.find_all('tr'):\n",
    "    header_cells = row.find_all('th')\n",
    "    for cell in header_cells:\n",
    "        name = extract_column_from_header(cell)\n",
    "        if name:  # Only append non-empty results\n",
    "            column_names.append(name)\n",
    "    "
   ]
  },
  {
   "cell_type": "code",
   "execution_count": 74,
   "id": "a651283a-e5f4-4ebd-8c77-1edad5d151a0",
   "metadata": {},
   "outputs": [
    {
     "name": "stdout",
     "output_type": "stream",
     "text": [
      "['Flight No.', 'Date and time ( )', 'Launch site', 'Payload', 'Payload mass', 'Orbit', 'Customer', 'Launch outcome']\n"
     ]
    }
   ],
   "source": [
    "print(column_names)"
   ]
  },
  {
   "cell_type": "markdown",
   "id": "71106e43-c363-4693-8d61-d543af91dba9",
   "metadata": {},
   "source": [
    "#### Create a dataframe by parsing the HTML laucnh tables"
   ]
  },
  {
   "cell_type": "code",
   "execution_count": 76,
   "id": "66e81708-4a06-4f2a-bb14-fad78e8cf5e4",
   "metadata": {},
   "outputs": [],
   "source": [
    "launch_dict= dict.fromkeys(column_names)\n",
    "\n",
    "# Let's initialize the launch_dict with each value to be an empty list\n",
    "\n",
    "for name in column_names:\n",
    "    launch_dict[name] = []\n",
    "\n",
    "# Added some new columns\n",
    "launch_dict['Version Booster']=[]\n",
    "launch_dict['Booster landing']=[]\n",
    "launch_dict['Date']=[]\n",
    "launch_dict['Time']=[]\n",
    "\n",
    "# Remove an irrelvant column\n",
    "del launch_dict['Date and time ( )']"
   ]
  },
  {
   "cell_type": "code",
   "execution_count": 77,
   "id": "008d9964-4365-4d40-976f-fbd4d5f58d34",
   "metadata": {},
   "outputs": [
    {
     "data": {
      "text/plain": [
       "{'Flight No.': [],\n",
       " 'Launch site': [],\n",
       " 'Payload': [],\n",
       " 'Payload mass': [],\n",
       " 'Orbit': [],\n",
       " 'Customer': [],\n",
       " 'Launch outcome': [],\n",
       " 'Version Booster': [],\n",
       " 'Booster landing': [],\n",
       " 'Date': [],\n",
       " 'Time': []}"
      ]
     },
     "execution_count": 77,
     "metadata": {},
     "output_type": "execute_result"
    }
   ],
   "source": [
    "launch_dict"
   ]
  },
  {
   "cell_type": "code",
   "execution_count": 78,
   "id": "58cd59e0-5e66-4613-85cc-7ef4069ad380",
   "metadata": {},
   "outputs": [],
   "source": [
    "# This code parses the entries in the launch table, and adds it to launch_dict\n",
    "\n",
    "extracted_row = 0\n",
    "#Extract each table \n",
    "for table_number,table in enumerate(soup.find_all('table',\"wikitable plainrowheaders collapsible\")):\n",
    "   # get table row \n",
    "    for rows in table.find_all(\"tr\"):\n",
    "        #check to see if first table heading is as number corresponding to launch a number \n",
    "        if rows.th:\n",
    "            if rows.th.string:\n",
    "                flight_number=rows.th.string.strip()\n",
    "                flag=flight_number.isdigit()\n",
    "        else:\n",
    "            flag=False\n",
    "        #get table element \n",
    "        row=rows.find_all('td')\n",
    "        #if it is number save cells in a dictonary \n",
    "        if flag:\n",
    "            extracted_row += 1\n",
    "            \n",
    "            # Flight Number value\n",
    "            launch_dict[\"Flight No.\"].append(flight_number)\n",
    "\n",
    "            # Date and Time\n",
    "            try:\n",
    "                datatimelist = date_time(row[0])\n",
    "                date = datatimelist[0].strip(',')\n",
    "                time = datatimelist[1]\n",
    "            except (IndexError, AttributeError, TypeError):\n",
    "                date = \"\"\n",
    "                time = \"\"\n",
    "            launch_dict[\"Date\"].append(date)\n",
    "            launch_dict[\"Time\"].append(time)\n",
    "            \n",
    "            # Booster Version\n",
    "            try:\n",
    "                bv = booster_version(row[1])\n",
    "                if not bv and row[1].a:\n",
    "                    bv = row[1].a.string.strip()\n",
    "            except (IndexError, AttributeError):\n",
    "                bv = \"\"\n",
    "            launch_dict[\"Version Booster\"].append(bv)\n",
    "            \n",
    "            # Launch Site\n",
    "            try:\n",
    "                launch_site = row[2].a.string.strip() if row[2].a else row[2].text.strip()\n",
    "            except (IndexError, AttributeError):\n",
    "                launch_site = \"\"\n",
    "            launch_dict[\"Launch site\"].append(launch_site)\n",
    "\n",
    "            # Payload\n",
    "            try:\n",
    "                payload = row[3].a.string.strip() if row[3].a else row[3].text.strip()\n",
    "            except (IndexError, AttributeError):\n",
    "                payload = \"\"\n",
    "            launch_dict[\"Payload\"].append(payload)\n",
    "\n",
    "            # Payload Mass\n",
    "            try:\n",
    "                payload_mass = get_mass(row[4])\n",
    "            except (IndexError, AttributeError):\n",
    "                payload_mass = None\n",
    "            launch_dict[\"Payload mass\"].append(payload_mass)\n",
    "\n",
    "            # Orbit\n",
    "            try:\n",
    "                orbit = row[5].a.string.strip() if row[5].a else row[5].text.strip()\n",
    "            except (IndexError, AttributeError):\n",
    "                orbit = \"\"\n",
    "            launch_dict[\"Orbit\"].append(orbit)\n",
    "\n",
    "            # Customer\n",
    "            try:\n",
    "                customer = row[6].a.string.strip() if row[6].a else row[6].text.strip()\n",
    "            except (IndexError, AttributeError):\n",
    "                customer = \"\"\n",
    "            launch_dict[\"Customer\"].append(customer)\n",
    "\n",
    "            # Launch Outcome\n",
    "            try:\n",
    "                launch_outcome = list(row[7].strings)[0].strip()\n",
    "            except (IndexError, AttributeError, TypeError):\n",
    "                launch_outcome = \"\"\n",
    "            launch_dict[\"Launch outcome\"].append(launch_outcome)\n",
    "\n",
    "            # Booster Landing\n",
    "            try:\n",
    "                booster_landing = landing_status(row[8])\n",
    "            except (IndexError, AttributeError):\n",
    "                booster_landing = \"\"\n",
    "            launch_dict[\"Booster landing\"].append(booster_landing)"
   ]
  },
  {
   "cell_type": "code",
   "execution_count": 79,
   "id": "5ab862e3-2611-4969-9801-bc633205a1e4",
   "metadata": {},
   "outputs": [],
   "source": [
    "df= pd.DataFrame({ key:pd.Series(value) for key, value in launch_dict.items() })"
   ]
  },
  {
   "cell_type": "code",
   "execution_count": 84,
   "id": "53cb2055-21c1-4e82-9293-31485964bbdf",
   "metadata": {},
   "outputs": [
    {
     "data": {
      "text/plain": [
       "Flight No.         0\n",
       "Launch site        0\n",
       "Payload            0\n",
       "Payload mass       0\n",
       "Orbit              0\n",
       "Customer           0\n",
       "Launch outcome     0\n",
       "Version Booster    0\n",
       "Booster landing    0\n",
       "Date               0\n",
       "Time               0\n",
       "dtype: int64"
      ]
     },
     "execution_count": 84,
     "metadata": {},
     "output_type": "execute_result"
    }
   ],
   "source": [
    "df.isnull().sum()"
   ]
  },
  {
   "cell_type": "code",
   "execution_count": 85,
   "id": "565a1c45-026e-4750-9aaa-2d645a67f7bc",
   "metadata": {},
   "outputs": [],
   "source": [
    "df.to_csv('spacex_web_scraped.csv', index=False)"
   ]
  },
  {
   "cell_type": "code",
   "execution_count": null,
   "id": "2a067867-fa81-4d31-9795-9637c1d9f4db",
   "metadata": {},
   "outputs": [],
   "source": []
  }
 ],
 "metadata": {
  "kernelspec": {
   "display_name": "Python 3 (ipykernel)",
   "language": "python",
   "name": "python3"
  },
  "language_info": {
   "codemirror_mode": {
    "name": "ipython",
    "version": 3
   },
   "file_extension": ".py",
   "mimetype": "text/x-python",
   "name": "python",
   "nbconvert_exporter": "python",
   "pygments_lexer": "ipython3",
   "version": "3.13.5"
  }
 },
 "nbformat": 4,
 "nbformat_minor": 5
}
