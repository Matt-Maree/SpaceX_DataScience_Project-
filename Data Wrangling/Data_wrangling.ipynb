{
 "cells": [
  {
   "cell_type": "code",
   "execution_count": 12,
   "id": "8b892794-e14e-45d2-a520-0b6af4ab0362",
   "metadata": {},
   "outputs": [],
   "source": [
    "import pandas as pd\n",
    "import numpy as np"
   ]
  },
  {
   "cell_type": "code",
   "execution_count": 64,
   "id": "63e47eba-91f3-4bfa-a3d7-e2295a9e0ab0",
   "metadata": {},
   "outputs": [],
   "source": [
    "# Load the data from csv file. For consistency, will use pre generated files\n",
    "\n",
    "data1_url = (\"https://cf-courses-data.s3.us.cloud-object-storage.appdomain.cloud/IBM-DS0321EN-SkillsNetwork/datasets/dataset_part_1.csv\")\n",
    "\n",
    "df1 = pd.read_csv(data1_url)"
   ]
  },
  {
   "cell_type": "code",
   "execution_count": 65,
   "id": "71838f55-332c-4707-b041-df3407d95ea6",
   "metadata": {},
   "outputs": [
    {
     "data": {
      "text/plain": [
       "FlightNumber       0.000000\n",
       "Date               0.000000\n",
       "BoosterVersion     0.000000\n",
       "PayloadMass        0.000000\n",
       "Orbit              0.000000\n",
       "LaunchSite         0.000000\n",
       "Outcome            0.000000\n",
       "Flights            0.000000\n",
       "GridFins           0.000000\n",
       "Reused             0.000000\n",
       "Legs               0.000000\n",
       "LandingPad        28.888889\n",
       "Block              0.000000\n",
       "ReusedCount        0.000000\n",
       "Serial             0.000000\n",
       "Longitude          0.000000\n",
       "Latitude           0.000000\n",
       "dtype: float64"
      ]
     },
     "execution_count": 65,
     "metadata": {},
     "output_type": "execute_result"
    }
   ],
   "source": [
    "# Calculate the percentage of missing values for each atribute\n",
    "\n",
    "df1.isnull().sum()/len(df1)*100"
   ]
  },
  {
   "cell_type": "code",
   "execution_count": 66,
   "id": "b52ae8ac-d707-4139-a5e4-8e5b1e4e2ae7",
   "metadata": {},
   "outputs": [
    {
     "name": "stdout",
     "output_type": "stream",
     "text": [
      "<class 'pandas.core.frame.DataFrame'>\n",
      "RangeIndex: 90 entries, 0 to 89\n",
      "Data columns (total 17 columns):\n",
      " #   Column          Non-Null Count  Dtype  \n",
      "---  ------          --------------  -----  \n",
      " 0   FlightNumber    90 non-null     int64  \n",
      " 1   Date            90 non-null     object \n",
      " 2   BoosterVersion  90 non-null     object \n",
      " 3   PayloadMass     90 non-null     float64\n",
      " 4   Orbit           90 non-null     object \n",
      " 5   LaunchSite      90 non-null     object \n",
      " 6   Outcome         90 non-null     object \n",
      " 7   Flights         90 non-null     int64  \n",
      " 8   GridFins        90 non-null     bool   \n",
      " 9   Reused          90 non-null     bool   \n",
      " 10  Legs            90 non-null     bool   \n",
      " 11  LandingPad      64 non-null     object \n",
      " 12  Block           90 non-null     float64\n",
      " 13  ReusedCount     90 non-null     int64  \n",
      " 14  Serial          90 non-null     object \n",
      " 15  Longitude       90 non-null     float64\n",
      " 16  Latitude        90 non-null     float64\n",
      "dtypes: bool(3), float64(4), int64(3), object(7)\n",
      "memory usage: 10.2+ KB\n"
     ]
    }
   ],
   "source": [
    "df1.info()"
   ]
  },
  {
   "cell_type": "markdown",
   "id": "53222f16-2a44-4a52-a23e-97f3eda8eaaf",
   "metadata": {},
   "source": [
    "#### TASK 1: Calculate the number of launches on each site"
   ]
  },
  {
   "cell_type": "code",
   "execution_count": 67,
   "id": "190ac28f-fd2a-4e9b-b48e-dca68f5f0567",
   "metadata": {},
   "outputs": [
    {
     "data": {
      "text/plain": [
       "LaunchSite\n",
       "CCAFS SLC 40    55\n",
       "KSC LC 39A      22\n",
       "VAFB SLC 4E     13\n",
       "Name: count, dtype: int64"
      ]
     },
     "execution_count": 67,
     "metadata": {},
     "output_type": "execute_result"
    }
   ],
   "source": [
    "df1[\"LaunchSite\"].value_counts()"
   ]
  },
  {
   "cell_type": "markdown",
   "id": "09ed6a76-e26d-4bb4-aaf4-d9fa49c216ce",
   "metadata": {},
   "source": [
    "#### TASK 2: Calculate the number and occurrence of each orbit"
   ]
  },
  {
   "cell_type": "code",
   "execution_count": 68,
   "id": "c612dea0-9889-4b1b-bb82-ce6f731e228c",
   "metadata": {},
   "outputs": [
    {
     "data": {
      "text/plain": [
       "Orbit\n",
       "GTO      27\n",
       "ISS      21\n",
       "VLEO     14\n",
       "PO        9\n",
       "LEO       7\n",
       "SSO       5\n",
       "MEO       3\n",
       "HEO       1\n",
       "ES-L1     1\n",
       "SO        1\n",
       "GEO       1\n",
       "Name: count, dtype: int64"
      ]
     },
     "execution_count": 68,
     "metadata": {},
     "output_type": "execute_result"
    }
   ],
   "source": [
    "df1[\"Orbit\"].value_counts()"
   ]
  },
  {
   "cell_type": "markdown",
   "id": "4025ba18-74dd-498d-b5ff-264d7cee5ffd",
   "metadata": {},
   "source": [
    "#### TASK 3: Calculate the number and occurence of mission outcome of the orbits"
   ]
  },
  {
   "cell_type": "code",
   "execution_count": 77,
   "id": "7200c509-24d6-4025-8e07-264930f8ce23",
   "metadata": {},
   "outputs": [
    {
     "data": {
      "text/plain": [
       "Outcome\n",
       "True ASDS      41\n",
       "None None      19\n",
       "True RTLS      14\n",
       "False ASDS      6\n",
       "True Ocean      5\n",
       "False Ocean     2\n",
       "None ASDS       2\n",
       "False RTLS      1\n",
       "Name: count, dtype: int64"
      ]
     },
     "execution_count": 77,
     "metadata": {},
     "output_type": "execute_result"
    }
   ],
   "source": [
    "landing_outcomes = df1[\"Outcome\"].value_counts()\n",
    "landing_outcomes"
   ]
  },
  {
   "cell_type": "code",
   "execution_count": 78,
   "id": "81102e84-353e-42df-8fa8-576576261afd",
   "metadata": {},
   "outputs": [
    {
     "name": "stdout",
     "output_type": "stream",
     "text": [
      "0 True ASDS\n",
      "1 None None\n",
      "2 True RTLS\n",
      "3 False ASDS\n",
      "4 True Ocean\n",
      "5 False Ocean\n",
      "6 None ASDS\n",
      "7 False RTLS\n"
     ]
    }
   ],
   "source": [
    "#Print all of the different types of landing outcomes\n",
    "\n",
    "for i, outcome in enumerate(landing_outcomes.keys()):\n",
    "    print(i,outcome)"
   ]
  },
  {
   "cell_type": "code",
   "execution_count": 95,
   "id": "1c645e64-e24c-4d12-bea5-15f0a0efb034",
   "metadata": {},
   "outputs": [
    {
     "data": {
      "text/plain": [
       "{'False ASDS', 'False Ocean', 'False RTLS', 'None ASDS', 'None None'}"
      ]
     },
     "execution_count": 95,
     "metadata": {},
     "output_type": "execute_result"
    }
   ],
   "source": [
    "# Make a list of bad landing outcomes\n",
    "\n",
    "bad_outcomes = set(landing_outcomes.index[landing_outcomes.index.str.contains(\"False|None\", case=False)])\n",
    "bad_outcomes"
   ]
  },
  {
   "cell_type": "code",
   "execution_count": 112,
   "id": "ccb65831-7340-4bde-b759-31f4db17306f",
   "metadata": {},
   "outputs": [],
   "source": [
    "# Define a new list, landing_class, and populate it based on whether or not a landing was successful, based on the values in the \n",
    "# \"Outcome\" column\n",
    "\n",
    "landing_class = []\n",
    "\n",
    "for outcome in df1[\"Outcome\"]:\n",
    "    if outcome in bad_outcomes:\n",
    "        landing_class.append(0)\n",
    "    else:\n",
    "        landing_class.append(1)"
   ]
  },
  {
   "cell_type": "code",
   "execution_count": 116,
   "id": "ca1495c2-7124-4106-8fcd-e68a1e1d1446",
   "metadata": {},
   "outputs": [],
   "source": [
    "# Create a new column in the dataframe called \"Class\", and populate it with the values from the landing_class list\n",
    "\n",
    "df1[\"Class\"] = landing_class"
   ]
  },
  {
   "cell_type": "code",
   "execution_count": 123,
   "id": "0082aa98-2c55-4894-8484-d5526b9ab851",
   "metadata": {},
   "outputs": [
    {
     "data": {
      "text/plain": [
       "Class\n",
       "1    60\n",
       "0    30\n",
       "Name: count, dtype: int64"
      ]
     },
     "execution_count": 123,
     "metadata": {},
     "output_type": "execute_result"
    }
   ],
   "source": [
    "df1[\"Class\"].value_counts()"
   ]
  },
  {
   "cell_type": "code",
   "execution_count": 124,
   "id": "d50a28a0-f180-4e84-b551-70db8f1f0be9",
   "metadata": {},
   "outputs": [],
   "source": [
    "# Save the new dataframe to a csv file\n",
    "\n",
    "df1.to_csv(\"dataset_part_2.csv\", index=False)"
   ]
  },
  {
   "cell_type": "code",
   "execution_count": null,
   "id": "ffd93edc-3184-48a4-8ae4-8be3a2d42427",
   "metadata": {},
   "outputs": [],
   "source": []
  }
 ],
 "metadata": {
  "kernelspec": {
   "display_name": "Python 3 (ipykernel)",
   "language": "python",
   "name": "python3"
  },
  "language_info": {
   "codemirror_mode": {
    "name": "ipython",
    "version": 3
   },
   "file_extension": ".py",
   "mimetype": "text/x-python",
   "name": "python",
   "nbconvert_exporter": "python",
   "pygments_lexer": "ipython3",
   "version": "3.13.5"
  }
 },
 "nbformat": 4,
 "nbformat_minor": 5
}
